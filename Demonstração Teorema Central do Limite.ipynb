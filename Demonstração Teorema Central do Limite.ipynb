{
  "nbformat": 4,
  "nbformat_minor": 0,
  "metadata": {
    "colab": {
      "name": "Caroline Barreiros - Avaliação - MBA BSBR Python - PROBAB.ipynb",
      "provenance": [],
      "collapsed_sections": [],
      "authorship_tag": "ABX9TyNNoh5+nnI4XV3TPrjiL3Cn",
      "include_colab_link": true
    },
    "kernelspec": {
      "name": "python3",
      "display_name": "Python 3"
    },
    "language_info": {
      "name": "python"
    }
  },
  "cells": [
    {
      "cell_type": "markdown",
      "metadata": {
        "id": "view-in-github",
        "colab_type": "text"
      },
      "source": [
        "<a href=\"https://colab.research.google.com/github/carolinebarreiros/Estudos-Python/blob/main/Demonstra%C3%A7%C3%A3o%20Teorema%20Central%20do%20Limite.ipynb\" target=\"_parent\"><img src=\"https://colab.research.google.com/assets/colab-badge.svg\" alt=\"Open In Colab\"/></a>"
      ]
    },
    {
      "cell_type": "markdown",
      "source": [
        "Caroline Barreiros - Avaliação - MBA BSBR Python - PROBAB"
      ],
      "metadata": {
        "id": "fnf0c9BYZJOn"
      }
    },
    {
      "cell_type": "markdown",
      "source": [
        "Demonstração do TCL usando a distribuição de Probabilidade Gama"
      ],
      "metadata": {
        "id": "MlERYTjsZXjm"
      }
    },
    {
      "cell_type": "markdown",
      "source": [
        "1. Importando as bibliotecas\n",
        "\n",
        "\n",
        "\n",
        "\n",
        "\n"
      ],
      "metadata": {
        "id": "X7LIOhz5Z083"
      }
    },
    {
      "cell_type": "code",
      "execution_count": 32,
      "metadata": {
        "id": "-fCrFHaJXlJ8"
      },
      "outputs": [],
      "source": [
        "import numpy as np\n",
        "import random\n",
        "import statistics"
      ]
    },
    {
      "cell_type": "markdown",
      "source": [
        "2. Criando a distribuição Gama"
      ],
      "metadata": {
        "id": "8wIh-M49Z-qM"
      }
    },
    {
      "cell_type": "code",
      "source": [
        "shape, scale = 2., 2.  # mean=4, std=2*sqrt(2)\n",
        "s = np.random.gamma(shape, scale, 100000)\n",
        "import matplotlib.pyplot as plt\n",
        "import scipy.special as sps\n",
        "plt.hist(s)\n",
        "plt.show()\n",
        "\n",
        "\n",
        "\n",
        "st_dev = np.std(s)\n",
        "print(\"O desvio padrão é:\" + str(st_dev))\n",
        "\n",
        "media = (np.mean(s))\n",
        "print(\"A média é: {:.2f}\".format(media))\n"
      ],
      "metadata": {
        "colab": {
          "base_uri": "https://localhost:8080/",
          "height": 302
        },
        "id": "zjQibQ-PZj7S",
        "outputId": "f0667153-20aa-4cbe-9d51-1e35f4cfa274"
      },
      "execution_count": 78,
      "outputs": [
        {
          "output_type": "display_data",
          "data": {
            "text/plain": [
              "<Figure size 432x288 with 1 Axes>"
            ],
            "image/png": "[encoded data removed]"
          },
          "metadata": {
            "needs_background": "light"
          }
        },
        {
          "output_type": "stream",
          "name": "stdout",
          "text": [
            "O desvio padrão é:2.8247129028401625\n",
            "A média é: 4.01\n"
          ]
        }
      ]
    },
    {
      "cell_type": "markdown",
      "source": [
        "3. Testando com amostra = 5"
      ],
      "metadata": {
        "id": "6QtD4kUbe0-_"
      }
    },
    {
      "cell_type": "code",
      "source": [
        "samples = [ np.mean(random.choices(s, k=20)) for _ in range(5) ]\n",
        "plt.hist(samples)\n",
        "plt.show()\n",
        "\n",
        "\n",
        "\n",
        "st_dev = np.std(samples)\n",
        "print(\"O desvio padrão é:\" + str(st_dev))\n",
        "\n",
        "media = (np.mean(samples))\n",
        "print(\"A média é: {:.2f}\".format(media))"
      ],
      "metadata": {
        "colab": {
          "base_uri": "https://localhost:8080/",
          "height": 302
        },
        "id": "Y1FpvNB4aE-E",
        "outputId": "07f38025-c93d-4caf-8008-a062b5ba95d5"
      },
      "execution_count": 79,
      "outputs": [
        {
          "output_type": "display_data",
          "data": {
            "text/plain": [
              "<Figure size 432x288 with 1 Axes>"
            ],
            "image/png": "[encoded data removed]"
          },
          "metadata": {
            "needs_background": "light"
          }
        },
        {
          "output_type": "stream",
          "name": "stdout",
          "text": [
            "O desvio padrão é:0.4029711000725369\n",
            "A média é: 3.85\n"
          ]
        }
      ]
    },
    {
      "cell_type": "markdown",
      "source": [
        "4. Testando com amostra = 25"
      ],
      "metadata": {
        "id": "3xZmn__vfAzf"
      }
    },
    {
      "cell_type": "code",
      "source": [
        "samples25 = [ np.mean(random.choices(s, k=20)) for _ in range(25) ]\n",
        "plt.hist(samples25)\n",
        "plt.show()\n",
        "\n",
        "\n",
        "st_dev = np.std(samples25)\n",
        "print(\"O desvio padrão é:\" + str(st_dev))\n",
        "\n",
        "media = (np.mean(samples25))\n",
        "print(\"A média é: {:.2f}\".format(media))"
      ],
      "metadata": {
        "colab": {
          "base_uri": "https://localhost:8080/",
          "height": 302
        },
        "id": "zgemXPV-fF33",
        "outputId": "825a4f04-552b-461a-bf19-af7fb236bbb6"
      },
      "execution_count": 80,
      "outputs": [
        {
          "output_type": "display_data",
          "data": {
            "text/plain": [
              "<Figure size 432x288 with 1 Axes>"
            ],
            "image/png": "[encoded data removed]"
          },
          "metadata": {
            "needs_background": "light"
          }
        },
        {
          "output_type": "stream",
          "name": "stdout",
          "text": [
            "O desvio padrão é:0.5113111345106764\n",
            "A média é: 4.08\n"
          ]
        }
      ]
    },
    {
      "cell_type": "code",
      "source": [
        ""
      ],
      "metadata": {
        "id": "qAbsKIDlfPaL"
      },
      "execution_count": null,
      "outputs": []
    },
    {
      "cell_type": "markdown",
      "source": [
        "5. Testando com amostra = 100"
      ],
      "metadata": {
        "id": "IeLu0GWHfPmf"
      }
    },
    {
      "cell_type": "code",
      "source": [
        "samples100 = [ np.mean(random.choices(s, k=20)) for _ in range(100) ]\n",
        "plt.hist(samples25)\n",
        "plt.show()\n",
        "\n",
        "\n",
        "st_dev = np.std(samples100)\n",
        "print(\"O desvio padrão é:\" + str(st_dev))\n",
        "\n",
        "media = (np.mean(samples100))\n",
        "print(\"A média é: {:.2f}\".format(media))"
      ],
      "metadata": {
        "colab": {
          "base_uri": "https://localhost:8080/",
          "height": 302
        },
        "outputId": "ef48b67c-b830-45cf-f643-a1d9a5aaac1d",
        "id": "9SWwCVDtfPmf"
      },
      "execution_count": 81,
      "outputs": [
        {
          "output_type": "display_data",
          "data": {
            "text/plain": [
              "<Figure size 432x288 with 1 Axes>"
            ],
            "image/png": "[encoded data removed]"
          },
          "metadata": {
            "needs_background": "light"
          }
        },
        {
          "output_type": "stream",
          "name": "stdout",
          "text": [
            "O desvio padrão é:0.5939965509278455\n",
            "A média é: 3.95\n"
          ]
        }
      ]
    },
    {
      "cell_type": "markdown",
      "source": [
        "6. Testando com amostra = 1000"
      ],
      "metadata": {
        "id": "_1i6H0nufag_"
      }
    },
    {
      "cell_type": "code",
      "source": [
        "samples1000 = [ np.mean(random.choices(s, k=20)) for _ in range(1000) ]\n",
        "plt.hist(samples1000)\n",
        "plt.show()\n",
        "\n",
        "\n",
        "st_dev = np.std(samples1000)\n",
        "print(\"O desvio padrão é:\" + str(st_dev))\n",
        "\n",
        "media = (np.mean(samples1000))\n",
        "print(\"A média é: {:.2f}\".format(media))"
      ],
      "metadata": {
        "colab": {
          "base_uri": "https://localhost:8080/",
          "height": 302
        },
        "outputId": "00967671-cec7-42e5-a4da-c28a48621f88",
        "id": "kCp7rlJgfahA"
      },
      "execution_count": 82,
      "outputs": [
        {
          "output_type": "display_data",
          "data": {
            "text/plain": [
              "<Figure size 432x288 with 1 Axes>"
            ],
            "image/png": "[encoded data removed]"
          },
          "metadata": {
            "needs_background": "light"
          }
        },
        {
          "output_type": "stream",
          "name": "stdout",
          "text": [
            "O desvio padrão é:0.6331779592274943\n",
            "A média é: 4.01\n"
          ]
        }
      ]
    },
    {
      "cell_type": "markdown",
      "source": [
        "7. Testando com amostra = 5000"
      ],
      "metadata": {
        "id": "zuWIgToHfqVt"
      }
    },
    {
      "cell_type": "code",
      "source": [
        "samples5000 = [ np.mean(random.choices(s, k=20)) for _ in range(5000) ]\n",
        "plt.hist(samples5000)\n",
        "plt.show()\n",
        "\n",
        "\n",
        "\n",
        "st_dev = np.std(samples5000)\n",
        "print(\"O desvio padrão é:\" + str(st_dev))\n",
        "\n",
        "media = (np.mean(samples5000))\n",
        "print(\"A média é: {:.2f}\".format(media))"
      ],
      "metadata": {
        "colab": {
          "base_uri": "https://localhost:8080/",
          "height": 302
        },
        "outputId": "7e5cc07e-8a13-4fe4-9012-2c6ecc2778f4",
        "id": "ib4FH9FRfqVu"
      },
      "execution_count": 83,
      "outputs": [
        {
          "output_type": "display_data",
          "data": {
            "text/plain": [
              "<Figure size 432x288 with 1 Axes>"
            ],
            "image/png": "[encoded data removed]"
          },
          "metadata": {
            "needs_background": "light"
          }
        },
        {
          "output_type": "stream",
          "name": "stdout",
          "text": [
            "O desvio padrão é:0.6323090148655585\n",
            "A média é: 4.01\n"
          ]
        }
      ]
    },
    {
      "cell_type": "markdown",
      "source": [
        "Conclusão: Demonstramos que conforme aumentamos o número da amostra,  a sua média se aproxima da distribuição normal."
      ],
      "metadata": {
        "id": "8KI4GxRJfzXf"
      }
    },
    {
      "cell_type": "markdown",
      "source": [
        "Abaixo também a demonstração com amostras de 5 e 1000, respectivamente. Distribuição de Poisson."
      ],
      "metadata": {
        "id": "QtvWZt9_nnOQ"
      }
    },
    {
      "cell_type": "code",
      "source": [
        "spoisson = np.random.poisson(5, 5)\n"
      ],
      "metadata": {
        "id": "H3KuTfa2l0hC"
      },
      "execution_count": 22,
      "outputs": []
    },
    {
      "cell_type": "code",
      "source": [
        "import matplotlib.pyplot as plt\n",
        "count, bins, ignored = plt.hist(spoisson, 14, density=True)\n",
        "plt.show()\n",
        "\n",
        "print(\"Lista:\" + str(spoisson))\n",
        "st_dev = np.std(spoisson)\n",
        "print(\"O desvio padrão é:\" + str(st_dev))\n",
        "\n",
        "media = (np.mean(spoisson))\n",
        "print(\"A média é: {:.2f}\".format(media))"
      ],
      "metadata": {
        "colab": {
          "base_uri": "https://localhost:8080/",
          "height": 338
        },
        "id": "kOFLDRc1m2l3",
        "outputId": "b5237277-5ba1-4892-fdaf-c4b74a630771"
      },
      "execution_count": 76,
      "outputs": [
        {
          "output_type": "display_data",
          "data": {
            "text/plain": [
              "<Figure size 432x288 with 1 Axes>"
            ],
            "image/png": "[encoded data removed]"
          },
          "metadata": {
            "needs_background": "light"
          }
        },
        {
          "output_type": "stream",
          "name": "stdout",
          "text": [
            "5.8\n",
            "Lista:[ 6 10  7  1  5]\n",
            "O desvio padrão é:2.9257477676655586\n",
            "A média é: 5.80\n"
          ]
        }
      ]
    },
    {
      "cell_type": "code",
      "source": [
        ""
      ],
      "metadata": {
        "id": "-PpBQ8yCm2dj"
      },
      "execution_count": null,
      "outputs": []
    },
    {
      "cell_type": "code",
      "source": [
        "spoisson1000 = np.random.poisson(5, 1000)\n"
      ],
      "metadata": {
        "id": "Go7Z-bSXnd6L"
      },
      "execution_count": 27,
      "outputs": []
    },
    {
      "cell_type": "code",
      "source": [
        "import matplotlib.pyplot as plt\n",
        "count, bins, ignored = plt.hist(spoisson1000, 14, density=True)\n",
        "plt.show()\n",
        "\n",
        "\n",
        "\n",
        "print(\"Lista:\" + str(spoisson1000))\n",
        "st_dev = np.std(spoisson1000)\n",
        "print(\"O desvio padrão é:\" + str(st_dev))\n",
        "\n",
        "media = (np.mean(spoisson1000))\n",
        "print(\"A média é: {:.2f}\".format(media))"
      ],
      "metadata": {
        "colab": {
          "base_uri": "https://localhost:8080/",
          "height": 1069
        },
        "outputId": "34421381-eb36-44e7-f73b-e58e25d65096",
        "id": "4_q2yRcFnd6O"
      },
      "execution_count": 77,
      "outputs": [
        {
          "output_type": "display_data",
          "data": {
            "text/plain": [
              "<Figure size 432x288 with 1 Axes>"
            ],
            "image/png": "[encoded data removed]"
          },
          "metadata": {
            "needs_background": "light"
          }
        },
        {
          "output_type": "stream",
          "name": "stdout",
          "text": [
            "Lista:[ 7  9  5  4  5  4  5  5  3  9  7  1  6  9  1  6  6  7  6  4  5 10  0  2\n",
            "  3  3  5  2  6  2  5  8  6  4  4  8  4  3  3  9  2  2  5 10  7  4  5  7\n",
            "  1  9  5  6  4 11  6  5  9  7  2 10  7  5  2  4  3  5  3  2  7  1  6  9\n",
            "  3  2  3 10  6  4  6  4 10  4  9  5  4  5 10  5  8  0  9  4  4  6  3  3\n",
            "  8  5  4  7  6  5  7  7  5  4  3  5  2  4  3  4  7  4  4  4  6  2  5  1\n",
            "  6  4  6  6  7  5  8  4  7  3  5  6  6  2  4  6  7  5  5  2  1  6  5  6\n",
            "  4  7  3  5  7  3  6  4  3  6  4  5  7  1  4  7  7  5  8  7  4  7  3  2\n",
            "  7  6  9  3  4  7  6  5  1  6  2  5  4  4  5  3  5  2  2  6  5  2  3  8\n",
            "  3  5  9  6  6  2  4  4  4  6  5  5  4  5  6  5  5  2  6  4  4  7 14  7\n",
            "  6  3  2  3  7  6  1  4  7  3  3  5  5  2  3  2  5  4  4  4  8  2  4  2\n",
            "  7  5  5  9  3  5  3  2  4  6  9  5  7  4  5  4  3  4  4  5  4  3  4  5\n",
            "  8  5  8  6  5  6  3  4  2  7  2  4  4  9  3  4  3  7  6  2  5  4  5  9\n",
            "  4  4  6  7  4  6  7  3  4  3  6 10  5  5  5  6  4  3  4  6  7  6  2  7\n",
            "  4  4  4  8  8  6  5  3  5  4  1  4  2  3  3  6  3  2  9  4  8  7  5  8\n",
            "  5  8  5  4  1  6  4  9  5  6  5  5  3  7  4  4  8  5  1  3  4  7  5  5\n",
            "  3  5  9  6  3  5  3  0  6  5  2  4  5  4  6  2  8  4  5  7  2  6  6  3\n",
            "  4  2  8  4  5  2  3  6  9  2  5  7  6  7  3  2  5  5  0  7  4  5  5  7\n",
            "  5  8  5  2  4  4  6  2  4  2  6 10  7  6  4  5  7  7  5  5  8  4  6  6\n",
            " 10  3  5  5  3  4  6  3  5  3  5  7  3  4  3  3  4  9  3  4  2  6  9  6\n",
            "  8  2  7 10  3  7  4  7  3  4  6  6  1  2  3  3 12  4  9  7  5  7  2  4\n",
            "  3  3  4  3  5  5  4  8 12  2  5  1  3  8  5  9  4  6  3  6  5  8  3  5\n",
            "  8  6  6  7  9  3  9  9  5  6  5  6  5  5  6 10  9  2  8  6  9  4  4  8\n",
            "  4 11  6  7  9  6  2  6  2  9  2  7  4  2  6  8  4  6  5  5  3  3  5  4\n",
            "  2  4  2  3  5  6  3  6  0 12  2  4  1  2  2  3 10  6  7  7  4  5  5  5\n",
            "  6  5  6  8  2  5  7  4  7  2  3  4  4  4  5  3  1  4  7  5  5  3  2  2\n",
            "  3  2  3  3  4  1  3 11  6  9  5  8  6  3  9  7  4  3  8  3  7  0  7  5\n",
            "  6  4  9  5  4  3  9  4  4  2  3  2  5  3  6  7  6  8  3  5  2  4  5  4\n",
            "  6  4  6  6  7  6  8  2  6  4  7  4  7  4  9  6  7  1  5  4  3  5  7  2\n",
            "  5  5  5  7 11  5  7 10  9  2  3  5  5  5  3  3  8  9  3  9  2  9  4  7\n",
            "  5  6  8  5 10  4  7  8  5  3  5  9  7 10  7  7  1 10  5  9  2  7  5  7\n",
            "  8  5  4  5  5  7  5  5  7  6  6  2  5  7  5  6  6  4  2  7  5  3  3  4\n",
            "  4  6  5  4  5  5  3  3  2  5  8  6  4  5  4  4  4  3  6  4  9  7  7  5\n",
            "  4  3  3  8  7  7  6  3  7  3  8  8  4  2  3  4  8  3  4  4  4  2  5  5\n",
            "  4  8  1  4  7  3  3  9  6  4  6  6  7  5 14  4  4  3  4  5  9  5  4  4\n",
            "  8  1  7  9 10  2  5  2  6  6  3  7  5  7  5 13  5  7  7  8  4  6  5  4\n",
            "  1  5  3  8  7  3  2  4  7  1  2  3  7  3  7  7  4  3  2  3  3  4  4  7\n",
            "  6  5  2  7  7  7  1  5  4  1  4  4  2  4  7  4  9  8  6  5  9  4  8  5\n",
            "  4  2  7  5  5  6  3  8  6  5  6  4 10  3  3  2  4  5  3  6  6  5  5  3\n",
            "  5 11  9  7  5  4  4  4  9  7  5  4  5  2  5  6  4  5  8  6  6  2  3  3\n",
            "  5  6  7  9  7  2  3  3  5  3  5  3 11  3  4  8  3  7  4 10  9  3  6  7\n",
            "  7  7  2  6  5  6  5  5  4  6  6  5  6  4  5  4  1  2  8  9  5  3  6  2\n",
            "  4  6  3  6  3  4  3  3  5  8  7  8  4  3  5  5]\n",
            "O desvio padrão é:2.249585739641857\n",
            "A média é: 5.06\n"
          ]
        }
      ]
    }
  ]
}